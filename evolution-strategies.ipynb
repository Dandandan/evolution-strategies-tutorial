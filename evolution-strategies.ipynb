{
 "cells": [
  {
   "cell_type": "markdown",
   "metadata": {},
   "source": [
    "Evolution Strategies for Deep Learning\n",
    "==============\n",
    "\n",
    "In this interactive tutorial, we will be reviewing using random optimization techniques and evolutionary algorithms for learning systems, like Neural Networks.\n",
    "The tutorial is active and will be updated over time with new experiments, results and improvements.\n",
    "\n",
    "Motivation\n",
    "=============\n",
    "Currently, deep neural networks and other models, are trained using gradient descent algorithms.\n",
    "For a lot of models and examples this works very, but also has a few downsides:\n",
    "\n",
    "* High memory usage. Computing the gradient of a model scales linearly with the batch size, which means that for large models multiple GB's of expensive, high bandwidth GPU memory\n",
    "* Because optimization depends on the gradient, the \n",
    "* Gradient-based optimization without noise will get stuck in local minima.\n",
    "\n",
    "\n",
    "\n",
    "\n",
    "Toy Example\n",
    "=============\n",
    "\n",
    "In this example we will be optimizing the function `f(x) = x²`. The minimum of `f(x)` is at `x=0`. \n",
    "Here, we will be using the simplest case of using just one sample per iteration and just one mutation.\n",
    "We also keep no history or pool of the best performing examples, but are going to apply an update at each step."
   ]
  },
  {
   "cell_type": "code",
   "execution_count": 4,
   "metadata": {},
   "outputs": [
    {
     "data": {
      "image/png": "[encoded data removed]",
      "text/plain": [
       "<matplotlib.figure.Figure at 0x112372550>"
      ]
     },
     "metadata": {},
     "output_type": "display_data"
    }
   ],
   "source": [
    "import numpy as np, matplotlib.pyplot as plt\n",
    "\n",
    "# seed the random number generator, so we'll get the same result every time\n",
    "np.random.seed(42)\n",
    "# the learning rate, or step which is multiplied by our random sample\n",
    "lr = 0.3\n",
    "# the parameters of our model, which we want to optimize\n",
    "# We choose an \n",
    "param_x = -5\n",
    "\n",
    "# our \"model\"\n",
    "def model(x):\n",
    "    return x ** 2\n",
    "\n",
    "# our loss function\n",
    "# this is the evalutation score of the model\n",
    "def loss(x):\n",
    "    return abs(x)\n",
    "\n",
    "def model_loss(x):\n",
    "    return loss(model(x))\n",
    "\n",
    "# the training algorithm\n",
    "num_iters = 40\n",
    "prev_loss = model_loss(param_x)\n",
    "loss_history = [prev_loss]\n",
    "param_history = [param_x]\n",
    "for _ in range(num_iters):\n",
    "    # we create a sample, here from a normal distribution\n",
    "    # with zero mean and \n",
    "    sample = np.random.normal(scale=lr)\n",
    "    # we measure sign and magnitude of improvement after applying the change\n",
    "    improvement = prev_loss - model_loss(param_x + sample)\n",
    "\n",
    "    # We are going to scale our sample by the rate of improvement\n",
    "    # That means if our improvement is negative, we move in\n",
    "    # the opposite direction of this improvement\n",
    "    param_x = param_x + sample * improvement\n",
    "    \n",
    "    prev_loss = model_loss(param_x)\n",
    "    \n",
    "    loss_history.append(prev_loss)\n",
    "    param_history.append(param_x)\n",
    "\n",
    "plt.plot(loss_history)\n",
    "\n",
    "plt.ylabel('loss')\n",
    "plt.xlabel('iters')\n",
    "\n",
    "plt.show()"
   ]
  },
  {
   "cell_type": "markdown",
   "metadata": {},
   "source": [
    "We see that the loss quickly drops to about 0 down after about 15 iterations.\n",
    "Increasing the learning rate makes optimization faster, but also more unstable."
   ]
  },
  {
   "cell_type": "code",
   "execution_count": null,
   "metadata": {},
   "outputs": [],
   "source": []
  }
 ],
 "metadata": {
  "kernelspec": {
   "display_name": "Python 3",
   "language": "python",
   "name": "python3"
  },
  "language_info": {
   "codemirror_mode": {
    "name": "ipython",
    "version": 3
   },
   "file_extension": ".py",
   "mimetype": "text/x-python",
   "name": "python",
   "nbconvert_exporter": "python",
   "pygments_lexer": "ipython3",
   "version": "3.6.1"
  }
 },
 "nbformat": 4,
 "nbformat_minor": 2
}

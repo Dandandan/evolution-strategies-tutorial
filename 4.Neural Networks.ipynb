{
 "cells": [
  {
   "cell_type": "markdown",
   "metadata": {},
   "source": [
    "# Optimizing Neural Networks in TensorFlow with Evolution Strategies"
   ]
  },
  {
   "cell_type": "code",
   "execution_count": 8,
   "metadata": {},
   "outputs": [
    {
     "name": "stdout",
     "output_type": "stream",
     "text": [
      "Extracting MNIST_DATA/train-images-idx3-ubyte.gz\n",
      "Extracting MNIST_DATA/train-labels-idx1-ubyte.gz\n",
      "Extracting MNIST_DATA/t10k-images-idx3-ubyte.gz\n",
      "Extracting MNIST_DATA/t10k-labels-idx1-ubyte.gz\n",
      "0 2.302686 2.278973 1.0\n",
      "100 0.9955279 0.99111235 1.0\n",
      "200 0.6247898 0.62242204 1.0\n",
      "300 0.49182308 0.49148893 1.0\n",
      "400 0.42631036 0.42582905 1.0\n",
      "500 0.39157665 0.3910508 1.0\n",
      "600 0.3680781 0.36779183 1.0\n",
      "700 0.3520685 0.35209608 0.0\n",
      "800 0.34320933 0.34303987 1.0\n",
      "900 0.33639312 0.3362795 1.0\n",
      "1000 0.331126 0.33110413 1.0\n",
      "1100 0.32698166 0.32700244 0.0\n",
      "1200 0.32397592 0.32409123 0.0\n",
      "1300 0.32104203 0.32112488 0.0\n",
      "1400 0.31878892 0.3186257 1.0\n",
      "1500 0.3164898 0.31660268 0.0\n",
      "1600 0.31460384 0.31473115 0.0\n",
      "1700 0.31235212 0.3124781 0.0\n",
      "1800 0.31156355 0.3115792 0.0\n",
      "1900 0.3107081 0.31080484 0.0\n",
      "0.9121\n"
     ]
    },
    {
     "data": {
      "image/png": "[encoded data removed]",
      "text/plain": [
       "<matplotlib.figure.Figure at 0x141c6ff28>"
      ]
     },
     "metadata": {},
     "output_type": "display_data"
    }
   ],
   "source": [
    "import tensorflow as tf\n",
    "import numpy as np, matplotlib.pyplot as plt\n",
    "\n",
    "from tensorflow.examples.tutorials.mnist import input_data\n",
    "mnist = input_data.read_data_sets('MNIST_DATA', one_hot=True)\n",
    "\n",
    "batch_size = 55000\n",
    "num_iters = 2000\n",
    "sigma = 0.01\n",
    "\n",
    "sigma_ = tf.placeholder(tf.float32, shape=[])\n",
    "pop_size = 64\n",
    "\n",
    "# Create the model\n",
    "x = tf.placeholder(tf.float32, [None, 784])\n",
    "W_var = tf.Variable(tf.zeros([784, 10]))\n",
    "b_var = tf.Variable(tf.zeros([10]))\n",
    "\n",
    "def model(x_in, W, b):\n",
    "    return tf.matmul(x_in, W) + b\n",
    "\n",
    "def repeat(x, pop_size):\n",
    "    return tf.tile(tf.expand_dims(x, 0), [pop_size, 1, 1])\n",
    "\n",
    "def model_2(x_in, W, b):\n",
    "    matmul = tf.matmul(repeat(x_in, pop_size), W)\n",
    "    mm = tf.transpose(matmul, [1, 0, 2])\n",
    "    return mm + b\n",
    "\n",
    "W_rand = tf.random_normal([pop_size, 784, 10]) * sigma_\n",
    "b_rand = tf.random_normal([pop_size, 10]) * sigma_\n",
    "\n",
    "y_var = model(x, W_var, b_var)\n",
    "y_rand = model_2(x, W_var + W_rand, b_var + b_rand)\n",
    "\n",
    "y_ = tf.placeholder(tf.float32, [None, 10])\n",
    "\n",
    "cross_entropy_rand = tf.reduce_mean(\n",
    "  tf.nn.softmax_cross_entropy_with_logits(labels=tf.tile(tf.expand_dims(y_, 1), [1, pop_size, 1]), logits=y_rand), axis=0)\n",
    "\n",
    "cross_entropy_var = tf.reduce_mean(\n",
    "  tf.nn.softmax_cross_entropy_with_logits(labels=y_, logits=y_var))\n",
    "\n",
    "min_cross_entropy = tf.argmin(cross_entropy_rand)\n",
    "\n",
    "improvement = tf.cast(cross_entropy_rand[min_cross_entropy] < cross_entropy_var, 'float32')\n",
    "\n",
    "op1 = tf.assign(W_var, W_var + improvement * W_rand[min_cross_entropy])\n",
    "op2 = tf.assign(b_var, b_var + improvement * b_rand[min_cross_entropy])\n",
    "\n",
    "\n",
    "sess = tf.InteractiveSession()\n",
    "tf.global_variables_initializer().run()\n",
    "\n",
    "loss_history = []\n",
    "sigma=0.01\n",
    "\n",
    "for iter in range(num_iters):\n",
    "    batch_xs, batch_ys = mnist.train.next_batch(batch_size)\n",
    "    loss, rand_loss, imp, _, _ = sess.run([cross_entropy_var, cross_entropy_rand[min_cross_entropy], improvement, op1, op2], feed_dict={x: batch_xs, y_: batch_ys, sigma_: sigma})\n",
    "    if iter % 100 == 0:\n",
    "        print(iter, loss, rand_loss, imp)\n",
    "    loss_history.append(loss)\n",
    "\n",
    "correct_prediction = tf.equal(tf.argmax(y_var, 1), tf.argmax(y_, 1))\n",
    "accuracy = tf.reduce_mean(tf.cast(correct_prediction, tf.float32))\n",
    "print(sess.run(accuracy, feed_dict={x: mnist.test.images,\n",
    "    y_: mnist.test.labels}))\n",
    "\n",
    "loss_line, = plt.plot(np.array(loss_history), label='loss')\n",
    "plt.show()"
   ]
  },
  {
   "cell_type": "markdown",
   "metadata": {},
   "source": [
    "# References\n",
    "\n",
    "https://github.com/tensorflow/tensorflow/blob/r1.1/tensorflow/examples/tutorials/mnist/mnist_softmax.py"
   ]
  }
 ],
 "metadata": {
  "kernelspec": {
   "display_name": "Python 3",
   "language": "python",
   "name": "python3"
  },
  "language_info": {
   "codemirror_mode": {
    "name": "ipython",
    "version": 3
   },
   "file_extension": ".py",
   "mimetype": "text/x-python",
   "name": "python",
   "nbconvert_exporter": "python",
   "pygments_lexer": "ipython3",
   "version": "3.6.1"
  }
 },
 "nbformat": 4,
 "nbformat_minor": 2
}

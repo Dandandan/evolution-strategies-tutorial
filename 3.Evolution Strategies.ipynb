{
 "cells": [
  {
   "cell_type": "markdown",
   "metadata": {},
   "source": [
    "# Evolution Strategies"
   ]
  },
  {
   "cell_type": "markdown",
   "metadata": {},
   "source": [
    "So far, we have only performed one random step every time \n",
    "In this part we are going to use evolution strategies to optimize our models.\n",
    "Evolution strategies often use multiple samples to compare different mutations.\n",
    "These mutations are compared, selected or graded in a certain way.\n",
    "\n",
    "We are going to train the same linear regression model on the Boston houses dataset.\n",
    "\n"
   ]
  },
  {
   "cell_type": "code",
   "execution_count": 238,
   "metadata": {},
   "outputs": [
    {
     "data": {
      "image/png": "[encoded data removed]",
      "text/plain": [
       "<matplotlib.figure.Figure at 0x1160d46d8>"
      ]
     },
     "metadata": {},
     "output_type": "display_data"
    },
    {
     "name": "stdout",
     "output_type": "stream",
     "text": [
      "loss:  22.983537280227754\n",
      "validation loss 20.742980023662952\n"
     ]
    }
   ],
   "source": [
    "import numpy as np, matplotlib.pyplot as plt\n",
    "from sklearn import datasets\n",
    "from sklearn.cross_validation import train_test_split\n",
    "from sklearn.preprocessing import StandardScaler\n",
    "np.random.seed(42)\n",
    "\n",
    "boston = datasets.load_boston()\n",
    "\n",
    "X = boston['data']\n",
    "X_train, X_test, y_train, y_test = train_test_split(X, y, test_size = 0.33, random_state = 42)\n",
    "\n",
    "y = boston['target']\n",
    "slr = StandardScaler()\n",
    "X_train = slr.fit_transform(X_train)\n",
    "X_test = slr.transform(X_test)\n",
    "\n",
    "def mse(y_true, y_pred):\n",
    "    return np.average(np.square(y_true - y_pred))\n",
    "\n",
    "def linear_regression(weights, bias, X, y):\n",
    "    y_pred = X.dot(weights) + bias\n",
    "    return mse(y, y_pred)\n",
    "\n",
    "npop = 32 # population size\n",
    "sigma = 0.5 # noise standard deviation\n",
    "\n",
    "W = np.zeros(X.shape[1])\n",
    "b = np.array([0])\n",
    "\n",
    "sigma_decay = 0.995\n",
    "\n",
    "num_iters = 1000\n",
    "\n",
    "loss_history = []\n",
    "R_start = linear_regression(W, b, X_train, y_train)\n",
    "\n",
    "for i in range(num_iters):\n",
    "    N_W = np.random.randn(npop, W.shape[0]) * sigma\n",
    "    N_b = np.random.randn(npop, 1) * sigma\n",
    "    R = np.zeros(npop)\n",
    "    \n",
    "    for j in range(npop):\n",
    "        W_try = W + N_W[j]\n",
    "        b_try = b + N_b[j] \n",
    "        R[j] = linear_regression(W_try, b_try, X_train, y_train)\n",
    "\n",
    "    R_min = np.argmin(R)\n",
    "    W_2 = N_W[R_min]\n",
    "    b_2 = N_b[R_min]\n",
    "\n",
    "    if R[R_min] <= R_start:\n",
    "        W = W + W_2\n",
    "        b = b + b_2\n",
    "        R_start = R[R_min]\n",
    "\n",
    "    loss_history.append(R_start)\n",
    "    sigma *= sigma_decay\n",
    "\n",
    "loss_line, = plt.plot(np.array(loss_history), label='loss')\n",
    "plt.legend(handles=[loss_line])\n",
    "plt.show()\n",
    "print(\"loss: \", loss_history[-1])\n",
    "\n",
    "print(\"validation loss\", linear_regression(W, b, X_test, y_test))\n"
   ]
  },
  {
   "cell_type": "markdown",
   "metadata": {},
   "source": [
    "We see that the training loss drop much more quickly when we have a larger population size."
   ]
  },
  {
   "cell_type": "markdown",
   "metadata": {},
   "source": [
    "# References\n",
    "https://blog.openai.com/evolution-strategies/\n",
    "\n",
    "https://gist.github.com/karpathy/77fbb6a8dac5395f1b73e7a89300318d"
   ]
  },
  {
   "cell_type": "code",
   "execution_count": null,
   "metadata": {},
   "outputs": [],
   "source": []
  }
 ],
 "metadata": {
  "kernelspec": {
   "display_name": "Python 3",
   "language": "python",
   "name": "python3"
  },
  "language_info": {
   "codemirror_mode": {
    "name": "ipython",
    "version": 3
   },
   "file_extension": ".py",
   "mimetype": "text/x-python",
   "name": "python",
   "nbconvert_exporter": "python",
   "pygments_lexer": "ipython3",
   "version": "3.6.1"
  }
 },
 "nbformat": 4,
 "nbformat_minor": 2
}

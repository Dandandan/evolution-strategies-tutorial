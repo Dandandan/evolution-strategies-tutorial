{
 "cells": [
  {
   "cell_type": "markdown",
   "metadata": {},
   "source": [
    "# Linear and Logistic Regression"
   ]
  },
  {
   "cell_type": "code",
   "execution_count": 98,
   "metadata": {},
   "outputs": [
    {
     "data": {
      "image/png": "[encoded data removed]",
      "text/plain": [
       "<matplotlib.figure.Figure at 0x108cce8d0>"
      ]
     },
     "metadata": {},
     "output_type": "display_data"
    },
    {
     "name": "stdout",
     "output_type": "stream",
     "text": [
      "validation loss 63.518470834094764\n",
      "sklearn 20.747143360308737\n"
     ]
    }
   ],
   "source": [
    "import numpy as np, matplotlib.pyplot as plt\n",
    "from sklearn import datasets\n",
    "from sklearn.cross_validation import train_test_split\n",
    "np.random.seed(42)\n",
    "\n",
    "boston = datasets.load_boston()\n",
    "\n",
    "X = boston['data']\n",
    "y = boston['target']\n",
    "\n",
    "X_train, X_test, y_train, y_test = train_test_split(X, y, test_size = 0.33, random_state = 42)\n",
    "\n",
    "# we change the optimizer a bit, so that it can handle a list of param vectors\n",
    "# we also are no longer keeping track of \n",
    "def random_opt(X, y, layer, loss, lr=0.1, num_iters=40):\n",
    "    prev_val = loss(layer.run(X, layer.params()), y)\n",
    "    loss_history = [prev_val]\n",
    "    for _ in range(num_iters):\n",
    "        # we create list of samples, here from a normal distribution\n",
    "        # with zero mean and standard deviation of our learning rate\n",
    "        samples = [np.random.normal(scale=lr, size=p.shape) for p in layer.params()]\n",
    "        new_params = [p + s for p, s in zip(layer.params(), samples)]\n",
    "        # we measure the improvement\n",
    "        improvement = prev_val - loss(layer.run(X, new_params), y)\n",
    "\n",
    "        # apply update if it improves performance\n",
    "        if improvement >= 0.0:\n",
    "            for p, s in zip(layer.params(), samples):\n",
    "                p += s\n",
    "\n",
    "        prev_val = loss(layer.run(X, layer.params()), y)\n",
    "\n",
    "        loss_history.append(prev_val)\n",
    "        \n",
    "    return loss_history\n",
    "\n",
    "\n",
    "class LinearRegression():\n",
    "    def __init__(self, size):\n",
    "        self.W = np.zeros(size)\n",
    "        self.b = np.array(0.0)\n",
    "    \n",
    "    def run(self, X, params):\n",
    "        return X.dot(params[0]) + params[1]\n",
    "    \n",
    "    def params(self):\n",
    "        return [self.W, self.b]\n",
    "    \n",
    "# the loss function or objective function\n",
    "# this is the function which we want to minimize\n",
    "def mse(y_true, y_pred):\n",
    "    return np.average(np.square(y_true - y_pred))\n",
    "\n",
    "linear_regression = LinearRegression(X.shape[1])\n",
    "training_loss = random_opt(X_train, y_train, linear_regression, mse, lr=0.005, num_iters=1000)\n",
    "\n",
    "loss_line, = plt.plot(training_loss, label='loss')\n",
    "plt.legend(handles=[loss_line])\n",
    "plt.show()\n",
    "print(\"validation loss\", mse(linear_regression.run(X_test, linear_regression.params()), y_test))\n",
    "\n",
    "from sklearn.linear_model import LinearRegression\n",
    "\n",
    "linear_regression_2 = LinearRegression()\n",
    "\n",
    "linear_regression_2.fit(X_train, y_train)\n",
    "\n",
    "print(\"sklearn\", mse(linear_regression_2.predict(X_test), y_test))\n"
   ]
  },
  {
   "cell_type": "code",
   "execution_count": null,
   "metadata": {},
   "outputs": [],
   "source": []
  }
 ],
 "metadata": {
  "kernelspec": {
   "display_name": "Python 3",
   "language": "python",
   "name": "python3"
  },
  "language_info": {
   "codemirror_mode": {
    "name": "ipython",
    "version": 3
   },
   "file_extension": ".py",
   "mimetype": "text/x-python",
   "name": "python",
   "nbconvert_exporter": "python",
   "pygments_lexer": "ipython3",
   "version": "3.6.1"
  }
 },
 "nbformat": 4,
 "nbformat_minor": 2
}

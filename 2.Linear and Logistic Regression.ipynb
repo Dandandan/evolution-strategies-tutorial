{
 "cells": [
  {
   "cell_type": "markdown",
   "metadata": {},
   "source": [
    "# Linear and Logistic Regression"
   ]
  },
  {
   "cell_type": "code",
   "execution_count": 45,
   "metadata": {},
   "outputs": [
    {
     "data": {
      "image/png": "[encoded data removed]",
      "text/plain": [
       "<matplotlib.figure.Figure at 0x115233fd0>"
      ]
     },
     "metadata": {},
     "output_type": "display_data"
    },
    {
     "name": "stdout",
     "output_type": "stream",
     "text": [
      "final loss 267.9566910247913\n"
     ]
    }
   ],
   "source": [
    "import numpy as np, matplotlib.pyplot as plt\n",
    "from sklearn import datasets\n",
    "np.random.seed(42)\n",
    "\n",
    "boston = datasets.load_boston()\n",
    "\n",
    "X = boston['data']\n",
    "y = boston['target']\n",
    "\n",
    "# we change the optimizer a bit, so that it can handle a list of param vectors\n",
    "# we also are no longer keeping track of \n",
    "def random_opt(X, y, layer, loss, lr=0.1, num_iters=40):\n",
    "    prev_val = loss(layer.run(X, layer.params()), y)\n",
    "    loss_history = [prev_val]\n",
    "    for _ in range(num_iters):\n",
    "        # we create list of samples, here from a normal distribution\n",
    "        # with zero mean and standard deviation of our learning rate\n",
    "        samples = [np.random.normal(scale=lr, size=p.shape) for p in layer.params()]\n",
    "        new_params = [p + s for p,s  in zip(layer.params(), samples)]\n",
    "        # we measure the improvement\n",
    "        improvement = prev_val - loss(layer.run(X, new_params), y)\n",
    "\n",
    "        # apply update if it improves performance\n",
    "        if improvement >= 0.0:\n",
    "            for p, sample in zip(layer.params(), samples):\n",
    "                p += sample\n",
    "\n",
    "        prev_val = loss(layer.run(X, layer.params()), y)\n",
    "\n",
    "        loss_history.append(prev_val)\n",
    "        \n",
    "    return loss_history\n",
    "\n",
    "\n",
    "class LinearRegression():\n",
    "    def __init__(self, size):\n",
    "        self.W = np.random.normal(size=size)\n",
    "        self.b = np.array(np.random.normal())\n",
    "    \n",
    "    def run(self, X, params):\n",
    "        return X.dot(params[0]) + params[1]\n",
    "    \n",
    "    def params(self):\n",
    "        return [self.W, self.b]\n",
    "    \n",
    "# the loss function or objective function\n",
    "# this is the function which we want to minimize\n",
    "def mse(y_true, y_pred):\n",
    "    return np.average(np.square(y_true - y_pred))\n",
    "\n",
    "linear_regression = LinearRegression(X.shape[1])\n",
    "loss_history = random_opt(X, y, linear_regression, mse, lr=0.2, num_iters=500)\n",
    "\n",
    "loss_line, = plt.plot(loss_history, label='x)')\n",
    "plt.show()\n",
    "print(\"final loss\", loss_history[-1])\n"
   ]
  },
  {
   "cell_type": "code",
   "execution_count": null,
   "metadata": {},
   "outputs": [],
   "source": []
  }
 ],
 "metadata": {
  "kernelspec": {
   "display_name": "Python 3",
   "language": "python",
   "name": "python3"
  },
  "language_info": {
   "codemirror_mode": {
    "name": "ipython",
    "version": 3
   },
   "file_extension": ".py",
   "mimetype": "text/x-python",
   "name": "python",
   "nbconvert_exporter": "python",
   "pygments_lexer": "ipython3",
   "version": "3.6.1"
  }
 },
 "nbformat": 4,
 "nbformat_minor": 2
}
